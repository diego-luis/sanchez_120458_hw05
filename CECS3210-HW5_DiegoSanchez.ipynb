{
 "cells": [
  {
   "cell_type": "markdown",
   "metadata": {},
   "source": [
    "# CECS 3210 - Assignment 05\n",
    "\n",
    "This week coding exercises will cover topics discussed in Chapter 5, 6, 7, and 8.\n",
    "\n",
    "**Due date**: October 02 at 11:59 P.M.\n",
    "\n",
    "**Notes**: \n",
    "* All solutions are reviewed, create unique solutions and discussions. \n",
    "* All coding exercises, must HAVE validations for user input.\n",
    "* Remember  to submit your solutions on time. \n",
    "* When running graphical code, your window may be hidden under your other windows \n",
    "* When you need to place your answer, double click the text cell. After placing your answer, press *Shfit + Enter*.\n",
    "* Documentation of graphics: [graphics.pdf](https://mcsp.wartburg.edu/zelle/python/graphics/graphics.pdf)\n",
    "* Graphics library file: [graphics.py](https://mcsp.wartburg.edu/zelle/python/graphics.py)"
   ]
  },
  {
   "cell_type": "markdown",
   "metadata": {},
   "source": [
    "**Name**: Diego L. Sanchez Vazquez\n",
    "<br>\n",
    "**Email**: sanchez_120458@students.pupr.edu\n",
    "<br>\n",
    "**Student number**: 120458"
   ]
  },
  {
   "cell_type": "code",
   "execution_count": 15,
   "metadata": {},
   "outputs": [],
   "source": [
    "# Required import for some problems. Run this cell and proceed.\n",
    "from graphics import *"
   ]
  },
  {
   "cell_type": "markdown",
   "metadata": {},
   "source": [
    "## Discussion exercises  ( I )\n",
    "\n",
    "**Optional Resource**: [String Formatting Syntax](https://realpython.com/python-f-strings/). May be helpful for String formatting exercises."
   ]
  },
  {
   "cell_type": "markdown",
   "metadata": {},
   "source": [
    "### 1. Given the initial statements:\n",
    "```python\n",
    "str_1 = \"You know nothing, \"\n",
    "str_2 = \"Jon Snow\"\n",
    "```\n",
    "Show the result of evaluating each of the following string expressions. Don't run the code, just type what should be the spected output. If you don't remember what a function does, look in to the Python documentation.<br>\n"
   ]
  },
  {
   "cell_type": "markdown",
   "metadata": {},
   "source": [
    "* A.  \n",
    "```python\n",
    "f\"Winter is coming, {str_2}\"\n",
    "#same as\n",
    "\"Winter is coming, {0}\".format(str_2)\n",
    "```\n",
    "**Expected Output**: Winter is coming, Jon Snow"
   ]
  },
  {
   "cell_type": "markdown",
   "metadata": {},
   "source": [
    "* B. \n",
    "```python\n",
    "2 * str_1 + 3 * str_2\n",
    "```\n",
    "**Expected Output**: You Know nothing, You know nothing, Jon SnowJon SnowJon Snow"
   ]
  },
  {
   "cell_type": "markdown",
   "metadata": {},
   "source": [
    "* C: \n",
    "```python\n",
    "str_1[6]\n",
    "```\n",
    "**Expected Output**: o"
   ]
  },
  {
   "cell_type": "markdown",
   "metadata": {},
   "source": [
    "* D: \n",
    "```python\n",
    "str_1 + str_2[-2]\n",
    "```\n",
    "**Expected Output**: You know nothing, o"
   ]
  },
  {
   "cell_type": "markdown",
   "metadata": {},
   "source": [
    "* E: \n",
    "```python\n",
    "str_2.upper()\n",
    "```\n",
    "**Expected Output**: JON SNOW"
   ]
  },
  {
   "cell_type": "markdown",
   "metadata": {},
   "source": [
    "* F: \n",
    "```python\n",
    "str_1[2] + str_2[:2]\n",
    "```\n",
    "**Expected Output**: uJo"
   ]
  },
  {
   "cell_type": "markdown",
   "metadata": {},
   "source": [
    "* G: \n",
    "```python\n",
    "str_2.upper().ljust(4) * 2\n",
    "```\n",
    "**Expected Output**: JON SNOWJON SNOW"
   ]
  },
  {
   "cell_type": "markdown",
   "metadata": {},
   "source": [
    "* H: \n",
    "```python\n",
    "str2.upper()[::-1]\n",
    "```\n",
    "**Expected Output**: WONS NOJ"
   ]
  },
  {
   "cell_type": "markdown",
   "metadata": {},
   "source": [
    "### 2. Show the string that would result from each of the following string formatting operations. **IF the operation is not legal, explain why.**"
   ]
  },
  {
   "cell_type": "markdown",
   "metadata": {},
   "source": [
    "* A: \n",
    "```python\n",
    "\"Any {1} who must say ‘I am the {0}’ is no true {0}\".format(\"king\", \"man\")\n",
    "```\n",
    "**Explanation**: Any man who must say ‘I am the king’ is no true king"
   ]
  },
  {
   "cell_type": "markdown",
   "metadata": {},
   "source": [
    "* B: \n",
    "```python\n",
    "\"A {3} {0} {1} his {2}.\".format( \"always\", \"pays\", \"debts\", \"Lannister\")\n",
    "```\n",
    "**Explanation**: A Lannister always pays his debts."
   ]
  },
  {
   "cell_type": "markdown",
   "metadata": {},
   "source": [
    "* C: \n",
    "```python\n",
    "\"Hello {0}\".format(\"Daenerys\", \"Snow\", \"Tyrion\")\n",
    "```\n",
    "**Explanation**: Hello Daenerys."
   ]
  },
  {
   "cell_type": "markdown",
   "metadata": {},
   "source": [
    "* D: \n",
    "```python\n",
    "\"{0:0.2f} {0:0.2f}\".format(2.3, 2.3468)\n",
    "```\n",
    "**Explanation**: 2.30 2.30"
   ]
  },
  {
   "cell_type": "markdown",
   "metadata": {},
   "source": [
    "* E: \n",
    "```python\n",
    "\"{7.5f} {7.5f}\".format(2.3, 2.3468)\n",
    "```\n",
    "**Explanation**: The operation is not legal because 0: is missing for the format."
   ]
  },
  {
   "cell_type": "markdown",
   "metadata": {},
   "source": [
    "* F: \n",
    "```python\n",
    "\"Time left {0:02}:{1:05.2f}\".format(1, 37.374)\n",
    "```\n",
    "**Explanation**: Time left 01:37.37"
   ]
  },
  {
   "cell_type": "markdown",
   "metadata": {},
   "source": [
    "* G: \n",
    "```python\n",
    "\"{1:3}\".format(\"14\")\n",
    "```\n",
    "**Explanation**: This operation is not valid because the index is out of range."
   ]
  },
  {
   "cell_type": "markdown",
   "metadata": {},
   "source": [
    "### 3. *In your own words*, describe the two motivations for defining functions in your programs."
   ]
  },
  {
   "cell_type": "markdown",
   "metadata": {},
   "source": [
    "* *Motivation 1*: Functions can help reduce coding time by creating a function that is used a lot of times instead of repeating the same lines of code over and over again.\n"
   ]
  },
  {
   "cell_type": "markdown",
   "metadata": {},
   "source": [
    "* *Motivation 2*: Functions in programs help to organize the code, meaning that when looking through the main function, one can get to specific parts of the code without being lost and helping the cleaness of the programm. This helps for code reading, debugging and future code implementation."
   ]
  },
  {
   "cell_type": "markdown",
   "metadata": {},
   "source": [
    "### 4. Parameters are an important concept in defining functions."
   ]
  },
  {
   "cell_type": "markdown",
   "metadata": {},
   "source": [
    "* A: What is the purpose of parameters?<br>\n",
    "  \n",
    "  **Answer:** The purpose of parameters is to pass variables or values to functions in order to complete the specific task.\n"
   ]
  },
  {
   "cell_type": "markdown",
   "metadata": {},
   "source": [
    "* B: What is the difference between a formal parameter and an actual parameter?<br>\n",
    "  \n",
    "  **Answer:** Actual parameters are values that are passed into the funtion when it's called while a formal parameter are variables defined by the funcion that recieves values when it's invoked."
   ]
  },
  {
   "cell_type": "markdown",
   "metadata": {},
   "source": [
    "* C: In what ways are parameters similar to and different from ordinary variables?<br>\n",
    "  \n",
    "  **Answer:** Parameters are similar to variables in that they store information/data types, they both can be initialized with either literals or other variables. The difference between the two is the way they are initialized, being that ordinary variables are initialized inside function, in contrast the parameters are initialized in the same line as functions."
   ]
  },
  {
   "cell_type": "markdown",
   "metadata": {},
   "source": [
    "### 5. Explain the following patterns **in your own words:**"
   ]
  },
  {
   "cell_type": "markdown",
   "metadata": {},
   "source": [
    "* A. simple decision<br>\n",
    "  \n",
    "  **Answer:** A simple decision is a conditional if statement where if the condition is true, a line or block of code is executed and then it procedes to the next statement after the if. On the other hand, if the statement is false then it simply continues to the next statement after the if statement without executing the code inside the if statement."
   ]
  },
  {
   "cell_type": "markdown",
   "metadata": {},
   "source": [
    "* B. two-way decision<br>\n",
    "  \n",
    "  **Answer:** A two-way decision is when an else statement is added after an if statement. Just like the name states, there are two different outcomes, if the if statement is true, the code inside the statement is executed, otherwise the code of the else statement is executed. After this is done, the program continues with the next statement."
   ]
  },
  {
   "cell_type": "markdown",
   "metadata": {},
   "source": [
    "* C. multi-way decision<br>\n",
    "  \n",
    "  **Answer:** A multi-way decision is basically a two-way decision but with at least three desicions. This means that additionall to the if and else statements there is also and elif statement. This statement is another way of saying, if the previous statement is not true check for another if statement. In theory there can be as many elif statements but only one if and one else statement. "
   ]
  },
  {
   "cell_type": "markdown",
   "metadata": {},
   "source": [
    "### 6. **Compare and contrast**, in your own words and examples, the following pairs of terms:"
   ]
  },
  {
   "cell_type": "markdown",
   "metadata": {},
   "source": [
    "* A: definite loop vs. indefinite loop<br>\n",
    "  \n",
    "  **Comparison & Contrast:** A definite loop is a loop where the number of iterations that the loop will go through are defined when the loop starts. A indefinite loop is a loop that continues to iterate and only stops when a set condition occurs. "
   ]
  },
  {
   "cell_type": "markdown",
   "metadata": {},
   "source": [
    "* B: for loop vs. while loop<br>\n",
    "  \n",
    "  **Comparison & Contrast:** A for loop is a definite loop, one can determine the increment value for each iteration and range. The while loop is a indefinite loop that stops when a conditional statement is true. Both are used for repetition but the for loop is used when one needs to iterate a special number of times, in contrast the while loop is used when a specific outcome is desired."
   ]
  },
  {
   "cell_type": "markdown",
   "metadata": {},
   "source": [
    "* C: interactive loop vs. sentinel loop<br>\n",
    "  \n",
    "  **Comparison & Contrast:** The interactive loop is when the user determines wheaters there will be a next iteration of the loop, where as the sentinel loop is one where it stops when it gets to a specified value. Both can go for a long time but the interactive needs an aditional propmt to determine if it will continue, vs the sentinel where in the same line where the input is, the user can set the loop to stop."
   ]
  },
  {
   "cell_type": "markdown",
   "metadata": {},
   "source": [
    "* D: sentinel loop vs. end -of-file loop<br>\n",
    "  \n",
    "  **Comparison & Contrast:** The sentinel loop offers the ability to the user to stop whenever it wants, in contrast the end of file will end as soon as the file finishes. For large amounts of input, the file method is faster and easy to fix if there were any input errors in the file, but in the sentinel loop there is more convinience to the fact that there is not a file needed to input just simple and few values."
   ]
  },
  {
   "cell_type": "markdown",
   "metadata": {},
   "source": [
    "***\n",
    "## Coding exercises  ( II )"
   ]
  },
  {
   "cell_type": "markdown",
   "metadata": {},
   "source": [
    "### Coding exercise \\#C1\n",
    "\n",
    "An acronym is a word formed by taking the first letters of the words in a\n",
    "phrase and making a word from them. For example, RAM is an acronym\n",
    "for \"random access memory.\" Write a program that allows the user to\n",
    "type in a phrase and then outputs the acronym for that phrase. Note : The\n",
    "acronym should be all uppercase, even if the words in the phrase are not\n",
    "capitalized.\n",
    "<br>\n",
    "Ex:<br>\n",
    "```python3\n",
    "Enter the phrase >> samuel matos flores\n",
    "SMF\n",
    "```"
   ]
  },
  {
   "cell_type": "code",
   "execution_count": 3,
   "metadata": {},
   "outputs": [],
   "source": [
    "### Complete the algorithm (Can be solved with just 3 line of code)\n",
    "# (Can be resolved with just 1 line of code if not validation is added.)\n",
    "def hasnumbers(n):\n",
    "    return any(i.isdigit() for i in n)\n",
    "\n",
    "def generate_acronym(phrase):\n",
    "    while hasnumbers(phrase) == True:\n",
    "        phrase = input(\"Error: Can't enter numbers. Enter another phrase. \")\n",
    "    a =\"\"\n",
    "    w = phrase.upper().split()\n",
    "    for x in w:\n",
    "        a += x[0]\n",
    "    return a"
   ]
  },
  {
   "cell_type": "code",
   "execution_count": 4,
   "metadata": {},
   "outputs": [
    {
     "name": "stdout",
     "output_type": "stream",
     "text": [
      "Enter the phrase >> Diego L sd2\n",
      "Error: Can't enter numbers. Enter another phrase. Diegol sanchez vazque\n",
      "DSV\n"
     ]
    }
   ],
   "source": [
    "# DO NOT MODITY Anything below\n",
    "# (Your implematation must be able to use this with success.)\n",
    "# Hint: The generate_acronym method should return the acronym\n",
    "def main():\n",
    "    print(generate_acronym(input('Enter the phrase >> ')))    \n",
    "main()"
   ]
  },
  {
   "cell_type": "markdown",
   "metadata": {},
   "source": [
    "***\n",
    "### Coding exercise \\#C2\n",
    "\n",
    "A Caesar cipher is a simple substitution cipher based on the idea of shifting\n",
    "each letter of the plaintext message a fixed number (called the key) of\n",
    "positions in the alphabet. For example, if the key value is 2, the word\n",
    "\"Sourpuss\" would be encoded as \"Uqwtrwuu.\" The original message can\n",
    "be recovered by \"reencoding\" it using the negative of the key.<br><br>\n",
    "Write a program that can encode and decode Caesar ciphers. The input\n",
    "to the program will be a string of plaintext and the value of the key.\n",
    "The output will be an encoded message where each character in the original\n",
    "message is replaced by shifting it key characters in the Unicode character\n",
    "set. For example, if ch is a character in the string and key is the\n",
    "amount to shift, then the character that replaces ch can be calculated as:\n",
    "chr (ord (ch) + key). <br><br>\n",
    "    It has to deal with the\n",
    "case when we \"drop off the end\" of the alphabet.\n",
    "    Make\n",
    "sure that you use a circular shift over the entire sequence of characters in\n",
    "your alphabet string.\n",
    "<br>Ex1:<br>\n",
    "```python3\n",
    "Enter the phrase >> SamuelMatos\n",
    "Enter the key of the cipher >> 20\n",
    "\n",
    "The original phrase: SamuelMatos\n",
    "The cipher output: MugoyfGunim\n",
    "```\n",
    "\n",
    "Ex2:<br>\n",
    "```python3\n",
    "Enter the phrase >> OajsalknAujsaj\n",
    "Enter the key of the cipher >> 598\n",
    "\n",
    "The original phrase: OajsalknAujsaj\n",
    "The cipher output: OajsalknAujsaj\n",
    "```"
   ]
  },
  {
   "cell_type": "code",
   "execution_count": 16,
   "metadata": {},
   "outputs": [],
   "source": [
    "def cesar_cipher(phrase, key):\n",
    "    # Hint: You need to check if the current character in the phrase is upper or lower case\n",
    "    # You may want to use % to achieve the circular behavior\n",
    "    # ASCII Values: (A-Z) = [65, 90] (a-z) = [97, 122]\n",
    "    c = \"\"\n",
    "    count = 0\n",
    "    while key > 26:\n",
    "        key = key - 26\n",
    "    for x in phrase:\n",
    "        if 64 < ord(phrase[count]) < 91:\n",
    "            if ord(phrase[count]) + key > 90:\n",
    "                c += chr(((ord(phrase[count]) + key) - 90) + 64)\n",
    "            else:\n",
    "                c += chr(ord(phrase[count]) + key)\n",
    "\n",
    "        elif 96 < ord(phrase[count]) < 123:\n",
    "            if ord(phrase[count]) + key > 122:\n",
    "                c += chr(((ord(phrase[count]) + key) - 122) + 96)\n",
    "            else:\n",
    "                c += chr(ord(phrase[count]) + key)\n",
    "        else:\n",
    "            c += phrase[count]\n",
    "        count += 1\n",
    "    return c"
   ]
  },
  {
   "cell_type": "code",
   "execution_count": 17,
   "metadata": {},
   "outputs": [
    {
     "name": "stdout",
     "output_type": "stream",
     "text": [
      "Enter the phrase >> Sdmm23\n",
      "Error: Input can only contain letters in the alphabet.\n",
      "Enter the phrase >> SamuelMatos\n",
      "Enter the key of the cipher >> w23\n",
      "Error: Only enter integers.Enter the key of the cipher >> 20\n",
      "\n",
      "The original phrase: SamuelMatos\n",
      "The cipher output: MugoyfGunim\n"
     ]
    }
   ],
   "source": [
    "# Just add validation\n",
    "# (Your implematation must be able to use this with success.)\n",
    "def main():\n",
    "    \n",
    "    phrase = input(\"Enter the phrase >> \")\n",
    "    while phrase.isalpha() is False:\n",
    "        phrase = input(\"Error: Input can only contain letters in the alphabet.\\nEnter the phrase >> \")\n",
    "    key = (input(\"Enter the key of the cipher >> \"))\n",
    "    while key.isdigit() is False:\n",
    "        key = (input(\"Error: Only enter integers.Enter the key of the cipher >> \"))\n",
    "    key = int(key)\n",
    "    \n",
    "    # DO NOT MODITY Anything below\n",
    "    print(f'\\nThe original phrase: {phrase}')\n",
    "    print(f'The cipher output: {cesar_cipher(phrase, key%26)}')\n",
    "\n",
    "main()"
   ]
  },
  {
   "cell_type": "markdown",
   "metadata": {},
   "source": [
    "***\n",
    "### Coding exercise \\#C3\n",
    "Word Count. A common utility on UniX/Linux systems is a small program\n",
    "called \"wc\". This program analyzes a file to determine the number of\n",
    "lines, words, and characters contained therein. Write your own version of\n",
    "wc. The program should accept a file name as input and then print three\n",
    "numbers showing the count of lines, words, and characters in the file. <br><br>\n",
    "Your implementation must be able to catch errors while trying to opening files. Example, a file that does not exist.\n",
    "<br>Ex:<br>\n",
    "```python3\n",
    "Enter the file name >> C3-example-test.txt\n",
    "\tLines: 25\n",
    "\tWords: 602\n",
    "\tCharacters: 3229\n",
    "```"
   ]
  },
  {
   "cell_type": "code",
   "execution_count": 62,
   "metadata": {},
   "outputs": [],
   "source": [
    "def wc(file_name):\n",
    "    try:\n",
    "        f = open(file_name)\n",
    "    except IOError:\n",
    "        print(\"File does't exist or wrong name.\")\n",
    "        return \"error\", \"error\", \"error\"\n",
    "    c = 0\n",
    "    lines = f.readlines()\n",
    "    words = 0\n",
    "    total_lines = 0\n",
    "    chars = 0\n",
    "    for w in lines:\n",
    "        total_lines += 1\n",
    "        words = words + len(w.split())\n",
    "        for x in w:\n",
    "            for y in x.split():\n",
    "                chars += 1\n",
    "    return total_lines, words, chars"
   ]
  },
  {
   "cell_type": "code",
   "execution_count": 63,
   "metadata": {},
   "outputs": [
    {
     "name": "stdout",
     "output_type": "stream",
     "text": [
      "Enter the file name >> asdf.txt\n",
      "File does't exist or wrong name.\n",
      "\tLines: error\n",
      "\tWords: error\n",
      "\tCharacters: error\n"
     ]
    }
   ],
   "source": [
    "# DO NOT MODITY Anything below\n",
    "# (Your implematation must be able to use this with success.)\n",
    "# Hint: The wc method should return the count of lines, words, and characters.\n",
    "def main():\n",
    "    lines, words, chars = wc(input('Enter the file name >> '))\n",
    "    print(f\"\\tLines: {lines}\\n\\tWords: {words}\\n\\tCharacters: {chars}\")    \n",
    "\n",
    "main()"
   ]
  },
  {
   "cell_type": "markdown",
   "metadata": {},
   "source": [
    "***\n",
    "### Coding exercise \\#C4\n",
    "Samuel is a math teacher at Hogwarts School of Witchcraft and Wizardry. He loves to give his students multiplication\n",
    "exercises. However, he doesn’t care about the actual operation result but the unit sum of its digits.<br><br>\n",
    "At Hogwarts School of Witchcraft and Wizardry, they define the unit sum (US) of N as the unit that it is left after doing the\n",
    "sum of all the digits of a number over and over again until they get a number of exactly 1 digit. For\n",
    "example: US(976) = 9 + 7 + 6 = 22 -> 2 + 2 = 4. Another example is US(19) = 1.<br><br>\n",
    "Samuel left as an assignment to get the US of any number. In order to check if a student get the right\n",
    "answer or not, he wants to make a program that solves it fast enough, but he is too busy for doing it\n",
    "himself.<br><br>\n",
    "¿Can you help Samuel to check his homework?"
   ]
  },
  {
   "cell_type": "code",
   "execution_count": 71,
   "metadata": {},
   "outputs": [],
   "source": [
    "def user_input():\n",
    "    i = (input(\"Enter the case value >> \"))\n",
    "    while i.isdigit() is False:\n",
    "        i = (input(\"\\nError: input can only be integers.\\nEnter the case value >> \"))\n",
    "    return i"
   ]
  },
  {
   "cell_type": "code",
   "execution_count": 72,
   "metadata": {},
   "outputs": [],
   "source": [
    "def unit_sum(number):\n",
    "    sum = 0\n",
    "    count = 0\n",
    "    while int(number) >= 10:\n",
    "        count = 0\n",
    "        sum = 0\n",
    "        for x in number:\n",
    "            sum += int(number[count])\n",
    "            count += 1\n",
    "        number = str(sum)\n",
    "    return sum"
   ]
  },
  {
   "cell_type": "code",
   "execution_count": 73,
   "metadata": {},
   "outputs": [
    {
     "name": "stdout",
     "output_type": "stream",
     "text": [
      "Enter the amount of cases >> 2\n",
      "Enter the case value >> 976\n",
      "Case 1: 4\n",
      "Enter the case value >> 19\n",
      "Case 2: 1\n"
     ]
    }
   ],
   "source": [
    "# Just add validation\n",
    "# (Your implematation must be able to use this with success.)\n",
    "def main():\n",
    "    cases = (input(\"Enter the amount of cases >> \"))\n",
    "    while cases.isdigit() is False:\n",
    "        cases = (input(\"\\nError: input can only be integers.\\nEnter the amount of cases >> \"))\n",
    "    cases = int(cases)\n",
    "    # DO NOT MODITY Anything below\n",
    "    for idx in range(cases):\n",
    "        print(f'Case {(idx+1)}: {unit_sum(user_input())}')\n",
    "\n",
    "main()"
   ]
  },
  {
   "cell_type": "markdown",
   "metadata": {},
   "source": [
    "***\n",
    "### Coding exercise \\#C5\n",
    "Archery Scorer. Write a program that draws an archery target (see Programming\n",
    "Exercise 2 from Chapter 4) and allows the user to click five\n",
    "times to represent arrows shot at the target. Using five-band scoring, a\n",
    "bulls-eye (yellow) is worth 9 points and each successive ring is worth 2\n",
    "fewer points down to 1 for white. The program should output a score for\n",
    "each click and keep track of a running sum for the entire series.\n",
    "Ex:<br>\n",
    "**Image example: Target with shots (window)**\n",
    "<br>\n",
    "<img src='./images_reference/C5-example.jpg' alt='target'>\n",
    "**Console ouput example: information**\n",
    "```python3\n",
    "Hit! 9 Point\n",
    "Hit! 7 Point\n",
    "Hit! 3 Point\n",
    "Hit! 1 Point\n",
    "You missed!\n",
    "The results for the shots taken were: 20\n",
    "```"
   ]
  },
  {
   "cell_type": "code",
   "execution_count": 13,
   "metadata": {},
   "outputs": [],
   "source": [
    "# DO NOT MODITY Anything below\n",
    "# (Your implematation must be able to use this with success.)\n",
    "def draw_archery_target(win):\n",
    "    win.setCoords(-5, -5, 5, 5)\n",
    "    \n",
    "    for idx, color  in enumerate(['white', 'black', 'blue', 'red', 'yellow']):\n",
    "        circle = Circle(Point(0, 0), 5-idx)\n",
    "        circle.setOutline(\"black\")\n",
    "        circle.setFill(color)\n",
    "        circle.setWidth(1)\n",
    "        circle.draw(win)"
   ]
  },
  {
   "cell_type": "code",
   "execution_count": 14,
   "metadata": {},
   "outputs": [],
   "source": [
    "def shot_at(win):\n",
    "    ### Create method logic\n",
    "    click = win.getMouse()\n",
    "    c = Circle(Point(click.getX(), click.getY()), .25)\n",
    "    c.setFill('green')\n",
    "    c.draw(win)\n",
    "    hit = click.getX()**2 + click.getY()**2\n",
    "    if hit > 5**2:\n",
    "        print(\"You missed!\")\n",
    "        return 0\n",
    "    elif hit > 4**2:\n",
    "        print(\"Hit! 1 Point\")\n",
    "        return 1\n",
    "    elif hit > 3**2:\n",
    "        print(\"Hit! 3 Point\")\n",
    "        return 3\n",
    "    elif hit > 2**2:\n",
    "        print(\"Hit! 5 Point\")\n",
    "        return 5\n",
    "    elif hit > 1**1:\n",
    "        print(\"Hit! 7 Point\")\n",
    "        return 7\n",
    "    else:\n",
    "        print(\"Hit! 9 Point\")\n",
    "        return 9"
   ]
  },
  {
   "cell_type": "code",
   "execution_count": 15,
   "metadata": {},
   "outputs": [
    {
     "name": "stdout",
     "output_type": "stream",
     "text": [
      "Hit! 9 Point\n",
      "Hit! 7 Point\n",
      "Hit! 3 Point\n",
      "Hit! 1 Point\n",
      "You missed!\n",
      "The results for the shots taken were: 20\n"
     ]
    },
    {
     "ename": "GraphicsError",
     "evalue": "getMouse in closed window",
     "output_type": "error",
     "traceback": [
      "\u001b[1;31m---------------------------------------------------------------------------\u001b[0m",
      "\u001b[1;31mGraphicsError\u001b[0m                             Traceback (most recent call last)",
      "\u001b[1;32m<ipython-input-15-2833780493ae>\u001b[0m in \u001b[0;36m<module>\u001b[1;34m\u001b[0m\n\u001b[0;32m     14\u001b[0m     \u001b[0mtarget\u001b[0m\u001b[1;33m.\u001b[0m\u001b[0mclose\u001b[0m\u001b[1;33m(\u001b[0m\u001b[1;33m)\u001b[0m\u001b[1;33m\u001b[0m\u001b[1;33m\u001b[0m\u001b[0m\n\u001b[0;32m     15\u001b[0m \u001b[1;33m\u001b[0m\u001b[0m\n\u001b[1;32m---> 16\u001b[1;33m \u001b[0mmain\u001b[0m\u001b[1;33m(\u001b[0m\u001b[1;33m)\u001b[0m\u001b[1;33m\u001b[0m\u001b[1;33m\u001b[0m\u001b[0m\n\u001b[0m",
      "\u001b[1;32m<ipython-input-15-2833780493ae>\u001b[0m in \u001b[0;36mmain\u001b[1;34m()\u001b[0m\n\u001b[0;32m     11\u001b[0m \u001b[1;33m\u001b[0m\u001b[0m\n\u001b[0;32m     12\u001b[0m     \u001b[0mprint\u001b[0m\u001b[1;33m(\u001b[0m\u001b[1;34mf\"The results for the shots taken were: {sum(scores)}\"\u001b[0m\u001b[1;33m)\u001b[0m\u001b[1;33m\u001b[0m\u001b[1;33m\u001b[0m\u001b[0m\n\u001b[1;32m---> 13\u001b[1;33m     \u001b[0mtarget\u001b[0m\u001b[1;33m.\u001b[0m\u001b[0mgetMouse\u001b[0m\u001b[1;33m(\u001b[0m\u001b[1;33m)\u001b[0m\u001b[1;33m\u001b[0m\u001b[1;33m\u001b[0m\u001b[0m\n\u001b[0m\u001b[0;32m     14\u001b[0m     \u001b[0mtarget\u001b[0m\u001b[1;33m.\u001b[0m\u001b[0mclose\u001b[0m\u001b[1;33m(\u001b[0m\u001b[1;33m)\u001b[0m\u001b[1;33m\u001b[0m\u001b[1;33m\u001b[0m\u001b[0m\n\u001b[0;32m     15\u001b[0m \u001b[1;33m\u001b[0m\u001b[0m\n",
      "\u001b[1;32m~\\Documents\\Advanced Programming Jupyter Notebooks\\HW05\\graphics.py\u001b[0m in \u001b[0;36mgetMouse\u001b[1;34m(self)\u001b[0m\n\u001b[0;32m    311\u001b[0m         \u001b[1;32mwhile\u001b[0m \u001b[0mself\u001b[0m\u001b[1;33m.\u001b[0m\u001b[0mmouseX\u001b[0m \u001b[1;33m==\u001b[0m \u001b[1;32mNone\u001b[0m \u001b[1;32mor\u001b[0m \u001b[0mself\u001b[0m\u001b[1;33m.\u001b[0m\u001b[0mmouseY\u001b[0m \u001b[1;33m==\u001b[0m \u001b[1;32mNone\u001b[0m\u001b[1;33m:\u001b[0m\u001b[1;33m\u001b[0m\u001b[1;33m\u001b[0m\u001b[0m\n\u001b[0;32m    312\u001b[0m             \u001b[0mself\u001b[0m\u001b[1;33m.\u001b[0m\u001b[0mupdate\u001b[0m\u001b[1;33m(\u001b[0m\u001b[1;33m)\u001b[0m\u001b[1;33m\u001b[0m\u001b[1;33m\u001b[0m\u001b[0m\n\u001b[1;32m--> 313\u001b[1;33m             \u001b[1;32mif\u001b[0m \u001b[0mself\u001b[0m\u001b[1;33m.\u001b[0m\u001b[0misClosed\u001b[0m\u001b[1;33m(\u001b[0m\u001b[1;33m)\u001b[0m\u001b[1;33m:\u001b[0m \u001b[1;32mraise\u001b[0m \u001b[0mGraphicsError\u001b[0m\u001b[1;33m(\u001b[0m\u001b[1;34m\"getMouse in closed window\"\u001b[0m\u001b[1;33m)\u001b[0m\u001b[1;33m\u001b[0m\u001b[1;33m\u001b[0m\u001b[0m\n\u001b[0m\u001b[0;32m    314\u001b[0m             \u001b[0mtime\u001b[0m\u001b[1;33m.\u001b[0m\u001b[0msleep\u001b[0m\u001b[1;33m(\u001b[0m\u001b[1;36m.1\u001b[0m\u001b[1;33m)\u001b[0m  \u001b[1;31m# give up thread\u001b[0m\u001b[1;33m\u001b[0m\u001b[1;33m\u001b[0m\u001b[0m\n\u001b[0;32m    315\u001b[0m         \u001b[0mx\u001b[0m\u001b[1;33m,\u001b[0m \u001b[0my\u001b[0m \u001b[1;33m=\u001b[0m \u001b[0mself\u001b[0m\u001b[1;33m.\u001b[0m\u001b[0mtoWorld\u001b[0m\u001b[1;33m(\u001b[0m\u001b[0mself\u001b[0m\u001b[1;33m.\u001b[0m\u001b[0mmouseX\u001b[0m\u001b[1;33m,\u001b[0m \u001b[0mself\u001b[0m\u001b[1;33m.\u001b[0m\u001b[0mmouseY\u001b[0m\u001b[1;33m)\u001b[0m\u001b[1;33m\u001b[0m\u001b[1;33m\u001b[0m\u001b[0m\n",
      "\u001b[1;31mGraphicsError\u001b[0m: getMouse in closed window"
     ]
    }
   ],
   "source": [
    "from graphics import *\n",
    "# DO NOT MODITY Anything below\n",
    "# (Your implematation must be able to use this with success.)\n",
    "def main():\n",
    "    scores = []\n",
    "    target = GraphWin()\n",
    "    draw_archery_target(target)\n",
    "    \n",
    "    for _ in range(5):\n",
    "        scores.append(shot_at(target))\n",
    "    \n",
    "    print(f\"The results for the shots taken were: {sum(scores)}\")\n",
    "    target.getMouse()\n",
    "    target.close()\n",
    "\n",
    "main()"
   ]
  },
  {
   "cell_type": "markdown",
   "metadata": {},
   "source": [
    "***\n",
    "### Coding exercise \\#C6\n",
    "Write a program that uses a while loop to determine how long it takes\n",
    "for an investment to double at a given interest rate. The input will be an\n",
    "annualized interest rate, and the output is the number of years it takes an\n",
    "investment to double. Note: The amount of the initial investment does not\n",
    "matter; you can use $ 1.\n",
    "<br>Ex1:<br>\n",
    "\n",
    "```python3\n",
    "What is the annualized interest rate? 60\n",
    "What is the initial principal? 50\n",
    "The amount of years to get double the initial amount are 2\n",
    "The final principal is $ 128.00 \n",
    "```\n",
    "\n",
    "\n",
    "Ex2:\n",
    "```python3\n",
    "What is the annualized interest rate? 7\n",
    "What is the initial principal? 700\n",
    "The amount of years to get double the initial amount are 11\n",
    "The final principal is $ 1473.40 \n",
    "```"
   ]
  },
  {
   "cell_type": "code",
   "execution_count": 16,
   "metadata": {},
   "outputs": [],
   "source": [
    "def calculate_details(apr, principal):\n",
    "    ### Create method logic\n",
    "    final_principal = principal\n",
    "    years = 0\n",
    "    while final_principal < principal*2:\n",
    "        final_principal += final_principal * apr\n",
    "        years += 1\n",
    "    return years, final_principal"
   ]
  },
  {
   "cell_type": "code",
   "execution_count": 17,
   "metadata": {},
   "outputs": [
    {
     "name": "stdout",
     "output_type": "stream",
     "text": [
      "What is the annualized interest rate? 60\n",
      "What is the initial principal? 50\n",
      "The amount of years to get double the initial amount are 2\n",
      "The final principal is $ 128.00 \n"
     ]
    }
   ],
   "source": [
    "# Just add validation\n",
    "# (Your implematation must be able to use this with success.)\n",
    "def main():\n",
    "    while True:\n",
    "        try:\n",
    "            apr = eval(input(\"What is the annualized interest rate? \")) * .01\n",
    "        except NameError:\n",
    "            print(\"Error: Can't enter letters.\")\n",
    "        else:\n",
    "            break\n",
    "\n",
    "    while True:\n",
    "        try:\n",
    "            principal = eval(input(\"What is the initial principal? \"))\n",
    "        except NameError:\n",
    "            print(\"Error: Can't enter letters.\")\n",
    "        else:\n",
    "            break\n",
    "    \n",
    "    # DO NOT MODITY Anything below\n",
    "    years, final_principal = calculate_details(apr, principal)\n",
    "    print(f'The amount of years to get double the initial amount are {years}')\n",
    "    print(f'The final principal is $ {\"%.2f\" % final_principal} ')\n",
    "\n",
    "main()"
   ]
  },
  {
   "cell_type": "markdown",
   "metadata": {},
   "source": [
    "***\n",
    "### Coding exercise \\#C7\n",
    "The Syracuse (also called \"Collatz\" or \"Hailstone\") sequence is generated\n",
    "by starting with a natural number and repeatedly applying the following\n",
    "function until reaching 1:<br>\n",
    "$$ syr(x) = \\begin{cases} \n",
    "                x/2 &\\text{if x is even}\\\\\n",
    "                3x + 1 &\\text{if x is odd}\n",
    "            \\end{cases}$$\n",
    "<br>\n",
    "For example, the Syracuse sequence starting with 5 is: 5, 16, 8, 4, 2, 1. It is\n",
    "an open question in mathematics whether this sequence will always go to\n",
    "1 for every possible starting value.\n",
    "Write a program that gets a starting value from the user and then prints\n",
    "the Syracuse sequence for that starting value.\n",
    "<br>\n",
    "Ex1: <br>\n",
    "```python3\n",
    "Input a natural number: 5\n",
    "5\n",
    "16\n",
    "8.0\n",
    "4.0\n",
    "2.0\n",
    "1.0\n",
    "```\n",
    "\n",
    "\n",
    "Ex2: \n",
    "```python3\n",
    "Input a natural number: S\n",
    "Error! Input must be a natural number. Try again...\n",
    "\n",
    "Input a natural number: 10\n",
    "10\n",
    "5.0\n",
    "16.0\n",
    "8.0\n",
    "4.0\n",
    "2.0\n",
    "1.0\n",
    "```"
   ]
  },
  {
   "cell_type": "code",
   "execution_count": 2,
   "metadata": {},
   "outputs": [],
   "source": [
    "def syr(x):\n",
    "    x = float(x)\n",
    "    print(f'{x}')\n",
    "    while x != 1:\n",
    "        if (x % 2) == 0:\n",
    "            x = x/2\n",
    "        else:\n",
    "            x = 3 * x + 1\n",
    "        print(f'{x}')"
   ]
  },
  {
   "cell_type": "code",
   "execution_count": 3,
   "metadata": {},
   "outputs": [
    {
     "name": "stdout",
     "output_type": "stream",
     "text": [
      "Input a natural number: asdf\n",
      "Error! Input must be a natural number. Try again... \n",
      "\n",
      "Input a natural number: 12\n",
      "12.0\n",
      "6.0\n",
      "3.0\n",
      "10.0\n",
      "5.0\n",
      "16.0\n",
      "8.0\n",
      "4.0\n",
      "2.0\n",
      "1.0\n"
     ]
    }
   ],
   "source": [
    "def main():\n",
    "    ### Replace with your own code here\n",
    "    # Use the above method signature.\n",
    "    # It must validate user input\n",
    "    x = input(\"Input a natural number: \")\n",
    "    while x.isdecimal() is False:\n",
    "        x = input(\"Error! Input must be a natural number. Try again... \\n\\nInput a natural number: \")\n",
    "\n",
    "    syr(x)\n",
    "    \n",
    "main()"
   ]
  },
  {
   "cell_type": "markdown",
   "metadata": {},
   "source": [
    "***\n",
    "### Coding exercise #C8\n",
    "Write a program that converts a color image to grayscale. The user supplies\n",
    "the name of a file containing a GIF or PPM image, and the program\n",
    "loads the image and displays the file. At the click of the mouse, the program\n",
    "converts the image to grayscale. The user is then prompted for a file\n",
    "name to store the grayscale image in."
   ]
  },
  {
   "cell_type": "code",
   "execution_count": 16,
   "metadata": {},
   "outputs": [],
   "source": [
    "def to_grayscale(img):\n",
    "    row = img.getWidth()\n",
    "    column = img.getHeight()\n",
    "    for x in range(row):\n",
    "        for y in range(column):\n",
    "            pixel_color = img.getPixel(x, y)\n",
    "            gs = int(round(0.299 * pixel_color[0] + 0.587 * pixel_color[1] + 0.114 * pixel_color[2]))\n",
    "            img.setPixel(x, y, color_rgb(gs, gs, gs))\n",
    "    return img"
   ]
  },
  {
   "cell_type": "code",
   "execution_count": 18,
   "metadata": {},
   "outputs": [
    {
     "name": "stdout",
     "output_type": "stream",
     "text": [
      "Enter  the name of a GIF or PPM image file to convert to to grayscale:  sun.gif\n"
     ]
    }
   ],
   "source": [
    "from graphics import *\n",
    "def main():\n",
    "    while True:\n",
    "        file_name = input(\"Enter  the name of a GIF or PPM image file to convert to to grayscale:  \")\n",
    "        try:\n",
    "            img = Image(Point(150, 150), file_name)\n",
    "        except:\n",
    "            print(\"Error: File doesn't exist, Try again... \\n\")\n",
    "        else:\n",
    "            break\n",
    "    img = to_grayscale(img)\n",
    "\n",
    "    win = GraphWin(\"To Grayscale\", 300, 300)\n",
    "    img.draw(win)\n",
    "\n",
    "    t = Text(Point(150, 100), \"Enter the name of the new image\")\n",
    "    t.setTextColor('red')\n",
    "    t.draw(win)\n",
    "\n",
    "    r = Rectangle(Point(100, 180), Point(200,225))\n",
    "    r.setFill('white')\n",
    "    r.draw(win)\n",
    "    t2 = Text(Point(150, 200), \"Click to Save\")\n",
    "    t2.setTextColor('red')\n",
    "    t2.draw(win)\n",
    "\n",
    "\n",
    "    i = Entry(Point(150, 150), 30)\n",
    "    i.draw(win)\n",
    "    win.getMouse()\n",
    "    new_name = i.getText()\n",
    "    img.save(new_name + \".gif\")\n",
    "\n",
    "    win.getMouse()\n",
    "\n",
    "main()"
   ]
  },
  {
   "cell_type": "markdown",
   "metadata": {},
   "source": [
    "***\n",
    "### Coding exercise \\#C9\n",
    "Use your drawFace function from the previous exercise to write a photo\n",
    "anonymizer. This program allows a user to load an image file (such as a\n",
    "PPM or GIF) and to draw cartoon faces over the top of existing faces in the\n",
    "photo. The user first inputs the name of the file containing the image. The\n",
    "image is displayed and the user is asked how many faces are to be blocked.\n",
    "The program then enters a loop for the user to click on two points for each\n",
    "face: the center and somewhere on the edge of the face (to determine the\n",
    "size of the face) . The program should then draw a face in that location\n",
    "using the drawFace function.\n",
    "<br><br>\n",
    "Hints: Section 4.8.4 describes the image-manipulation methods in the\n",
    "graphics library. Display the image centered in a GraphWin that is the same\n",
    "width and height as the image, and draw the graphics into this window.\n",
    "You can use a screen capture utility to save the resulting images."
   ]
  },
  {
   "cell_type": "code",
   "execution_count": 1,
   "metadata": {},
   "outputs": [],
   "source": [
    "def draw_face(center,size,win):\n",
    "        mouth_s = 1 * size\n",
    "        mouth_d = size / 2.0\n",
    "        eye_s = size * .10\n",
    "        eye_d = size / 2.0\n",
    "        head = Circle(center, size)\n",
    "        head.setFill('red')\n",
    "        head.draw(win)\n",
    "        left_eye = Circle(center, eye_s)\n",
    "        left_eye.setFill('black')\n",
    "        left_eye.move(-eye_d, -eye_d)\n",
    "        right_eye = Circle(center, eye_s)\n",
    "        right_eye.move(eye_d, -eye_d)\n",
    "        right_eye.setFill('black')\n",
    "        left_eye.draw(win)\n",
    "        right_eye.draw(win)\n",
    "        p = center.clone()\n",
    "        p.move(-mouth_s/2, mouth_d)\n",
    "        p2 = center . clone()\n",
    "        p2.move(mouth_s/2, mouth_d)\n",
    "        m = Polygon(p, p2, Point(center.getX(), center.getY()))\n",
    "        m.setFill('black')\n",
    "        m.draw(win)\n",
    "\n",
    "def draw_box(text,point):\n",
    "    t = Text(point, text)\n",
    "    rectangle = Rectangle(Point(point.getX()-(len(text)*5), point.getY()-15), Point(point.getX()+(len(text)*5), point.getY()+15))\n",
    "    rectangle.setFill('white')\n",
    "    return t, rectangle"
   ]
  },
  {
   "cell_type": "code",
   "execution_count": 2,
   "metadata": {},
   "outputs": [
    {
     "name": "stdout",
     "output_type": "stream",
     "text": [
      "Enter  the name of a GIF or PPM image file to convert to to grayscale:  sun.gif\n",
      "0\n",
      "1\n",
      "2\n",
      "3\n",
      "4\n"
     ]
    }
   ],
   "source": [
    "from math import *\n",
    "from graphics import *\n",
    "def main():\n",
    "    while True:\n",
    "        file_name = input(\"Enter  the name of a GIF or PPM image file to convert to to grayscale:  \")\n",
    "        try:\n",
    "            img = Image(Point(150, 150), file_name)\n",
    "        except:\n",
    "            print(\"Error: File doesn't exist, Try again... \\n\")\n",
    "        else:\n",
    "            break\n",
    "\n",
    "    win = GraphWin(\"Draw Faces\", 300, 300)\n",
    "    img.draw(win)\n",
    "\n",
    "\n",
    "    t1, r1 = draw_box(\"How many faces to draw?\", Point(150, 100))\n",
    "    r1.draw(win)\n",
    "    t1.draw(win)\n",
    "\n",
    "    t2, r2 = draw_box(\"Click to Continue\", Point(150, 200))\n",
    "    r2.draw(win)\n",
    "    t2.draw(win)\n",
    "\n",
    "    i = Entry(Point(150, 150), 30)\n",
    "    i.draw(win)\n",
    "    win.getMouse()\n",
    "    times = i.getText()\n",
    "    while times.isdecimal() is False:\n",
    "        t3, r3 = draw_box(\"Error Only Enter Integers \", Point(150, 60))\n",
    "        r3.draw(win)\n",
    "        t3.draw(win)\n",
    "        times = i.getText()\n",
    "        win.getMouse()\n",
    "        t3.undraw()\n",
    "        r3.undraw()\n",
    "\n",
    "    t1.undraw()\n",
    "    t2.undraw()\n",
    "    r1.undraw()\n",
    "    r2.undraw()\n",
    "    i.undraw()\n",
    "\n",
    "    for x in range(int(times)):\n",
    "        print(x)\n",
    "        c = win.getMouse()\n",
    "        c2 = win.getMouse()\n",
    "        s = sqrt(pow(c2.getX() - c.getX(), 2) + pow(c2.getY() - c.getY(), 2))\n",
    "        draw_face(c, s, win)\n",
    "\n",
    "    t4, r4 = draw_box(\"Click to End the Program\", Point(150, 150))\n",
    "    r4.draw(win)\n",
    "    t4.draw(win)\n",
    "    win.getMouse()\n",
    "\n",
    "\n",
    "main()"
   ]
  },
  {
   "cell_type": "code",
   "execution_count": null,
   "metadata": {},
   "outputs": [],
   "source": []
  }
 ],
 "metadata": {
  "hide_input": false,
  "kernelspec": {
   "display_name": "Python 3",
   "language": "python",
   "name": "python3"
  },
  "language_info": {
   "codemirror_mode": {
    "name": "ipython",
    "version": 3
   },
   "file_extension": ".py",
   "mimetype": "text/x-python",
   "name": "python",
   "nbconvert_exporter": "python",
   "pygments_lexer": "ipython3",
   "version": "3.7.9"
  }
 },
 "nbformat": 4,
 "nbformat_minor": 4
}
